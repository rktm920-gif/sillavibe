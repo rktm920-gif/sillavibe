{
 "cells": [
  {
   "cell_type": "markdown",
   "metadata": {},
   "source": [
    "# 경제활동인구 분석\n",
    "PRD의 기능 요구사항 FR-01, FR-02, FR-03에 기반한 데이터 분석"
   ]
  },
  {
   "cell_type": "code",
   "execution_count": null,
   "metadata": {},
   "outputs": [],
   "source": [
    "import pandas as pd"
   ]
  },
  {
   "cell_type": "markdown",
   "metadata": {},
   "source": [
    "### FR-01: 핵심 지표 계산\n",
    "1. `경제활동_통합.csv` 파일을 불러옵니다.\n",
    "2. 취업률과 실업률을 계산하여 새로운 열에 추가합니다.\n",
    "   - 취업률(%) = (취업자 / 경제활동인구) * 100\n",
    "   - 실업률(%) = (실업자 / 경제활동인구) * 100\n",
    "3. 계산된 값은 소수점 둘째 자리까지 표시합니다."
   ]
  },
  {
   "cell_type": "code",
   "execution_count": null,
   "metadata": {},
   "outputs": [],
   "source": [
    "file_path = '경제활동_통합.csv'\n",
    "df = pd.read_csv(file_path)\n",
    "\n",
    "# 경제활동인구가 0인 경우를 대비하여 0으로 나누는 것을 방지합니다.\n",
    "df['취업률'] = ((df['취업자 (천명)'] / df['경제활동인구 (천명)']) * 100).round(2)\n",
    "df['실업률'] = ((df['실업자 (천명)'] / df['경제활동인구 (천명)']) * 100).round(2)\n",
    "\n",
    "# 결과 확인\n",
    "print('취업률과 실업률이 추가된 데이터프레임:')\n",
    "df.head()"
   ]
  },
  {
   "cell_type": "markdown",
   "metadata": {},
   "source": [
    "### FR-02 & FR-03: 데이터 필터링 및 테이블 표시\n",
    "1. 특정 연도와 지역을 선택하여 데이터를 필터링합니다. (예: 2023년, 서울특별시, 부산광역시)\n",
    "2. 필터링된 결과를 데이터프레임으로 표시합니다."
   ]
  },
  {
   "cell_type": "code",
   "execution_count": null,
   "metadata": {},
   "outputs": [],
   "source": [
    "# --- 필터 조건 설정 (이 부분을 수정하여 원하는 결과를 얻을 수 있습니다) ---
",
    "selected_years = [2023, 2024] # 분석할 연도 선택\n",
    "selected_regions = ['서울특별시', '부산광역시', '전국'] # 분석할 지역 선택\n",
    "# --------------------------------------------------------------------
",
    "\n",
    "# 조건에 따라 데이터 필터링\n",
    "filtered_df = df[df['년도'].isin(selected_years) & df['지역'].isin(selected_regions)]\n",
    "\n",
    "# 최종 결과 데이터프레임(df)으로 저장하고 출력합니다.\n",
    "df = filtered_df\n",
    "\n",
    "print(f'{selected_years}년, {selected_regions}에 대한 분석 결과:')\n",
    "df"
   ]
  }
 ],
 "metadata": {
  "kernelspec": {
   "display_name": "Python 3",
   "language": "python",
   "name": "python3"
  },
  "language_info": {
   "name": "python",
   "version": "3.9.7"
  }
 },
 "nbformat": 4,
 "nbformat_minor": 2
}
